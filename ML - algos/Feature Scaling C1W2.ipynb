{
 "cells": [
  {
   "cell_type": "code",
   "execution_count": null,
   "id": "0205f78e-2c80-4a90-97a6-5e9e9fe4a85c",
   "metadata": {},
   "outputs": [],
   "source": [
    "import os\n",
    "import math\n",
    "import pandas as pd\n",
    "import numpy as np\n",
    "from matplotlib import pyplot as plt\n",
    "import sklearn"
   ]
  },
  {
   "cell_type": "code",
   "execution_count": null,
   "id": "9c4f4ce2-7091-46da-a0b3-49937335d899",
   "metadata": {},
   "outputs": [],
   "source": [
    "df=pd.read_csv('data.csv',header=None)\n",
    "df.columns=['Area','No.of Bedrooms','Price']"
   ]
  },
  {
   "cell_type": "code",
   "execution_count": null,
   "id": "bcd18034-dfd4-4dad-b2c8-e00c883b53d7",
   "metadata": {},
   "outputs": [],
   "source": [
    "X=df[['Area','No.of Bedrooms']].values\n",
    "y=df['Price'].values.reshape(-1,1)"
   ]
  },
  {
   "cell_type": "code",
   "execution_count": null,
   "id": "8d0c4b83-9dca-4b95-925f-ff97cebc1325",
   "metadata": {},
   "outputs": [],
   "source": [
    "from sklearn.preprocessing import MinMaxScaler\n",
    "\n",
    "scaler=MinMaxScaler()\n",
    "\n",
    "scaler.fit(X)\n",
    "X_scaled=scaler.transform(X)\n",
    "\n",
    "scaler.fit(y)\n",
    "y_scaled=scaler.transform(y)"
   ]
  }
 ],
 "metadata": {
  "kernelspec": {
   "display_name": "Python 3 (ipykernel)",
   "language": "python",
   "name": "python3"
  },
  "language_info": {
   "codemirror_mode": {
    "name": "ipython",
    "version": 3
   },
   "file_extension": ".py",
   "mimetype": "text/x-python",
   "name": "python",
   "nbconvert_exporter": "python",
   "pygments_lexer": "ipython3",
   "version": "3.12.0"
  }
 },
 "nbformat": 4,
 "nbformat_minor": 5
}
