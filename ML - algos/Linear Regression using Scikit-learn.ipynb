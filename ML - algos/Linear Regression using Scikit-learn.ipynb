{
 "cells": [
  {
   "cell_type": "code",
   "execution_count": null,
   "id": "fe35aa64-6430-4ced-bc08-9af25f87ad6c",
   "metadata": {},
   "outputs": [],
   "source": [
    "import pandas as pd\n",
    "import numpy as np\n",
    "from matplotlib import pyplot as plt"
   ]
  },
  {
   "cell_type": "code",
   "execution_count": null,
   "id": "8b40843a-6c0e-415b-91af-99614e9bc1ed",
   "metadata": {},
   "outputs": [],
   "source": [
    "house_df=pd.read_csv('data/hosuing_data.csv',header=None)\n",
    "house_df.columns=['Area','No.of Bedrooms','Cost']\n",
    "house_df"
   ]
  },
  {
   "cell_type": "code",
   "execution_count": null,
   "id": "eec1259e-db45-4750-8dfd-3735d35f1d1f",
   "metadata": {},
   "outputs": [],
   "source": [
    "X=house_df[['Area','No.of Bedrooms']]\n",
    "y=house_df['Cost']\n",
    "print(X)\n",
    "print('\\n')\n",
    "print(y)"
   ]
  },
  {
   "cell_type": "code",
   "execution_count": null,
   "id": "75c688b6-ff24-42fb-9a6e-3e20d1e8ed65",
   "metadata": {},
   "outputs": [],
   "source": [
    "from sklearn.preprocessing import MinMaxScaler\n",
    "\n",
    "scaler=MinMaxScaler()\n",
    "\n",
    "scaler.fit(X)\n",
    "X_scaled=scaler.transform(X)\n",
    "\n",
    "y=y.values.reshape(-1,1)\n",
    "scaler.fit(y)\n",
    "y_scaled=scaler.transform(y)"
   ]
  },
  {
   "cell_type": "code",
   "execution_count": null,
   "id": "692441ed-2a9e-4f7f-8f4b-b311af774338",
   "metadata": {},
   "outputs": [],
   "source": [
    "from sklearn.model_selection import train_test_split\n",
    "\n",
    "X_train,X_test,y_train,y_test=train_test_split(X_scaled,y_scaled,test_size=0.2,random_state=42)"
   ]
  },
  {
   "cell_type": "code",
   "execution_count": null,
   "id": "576bf5d8-9409-4571-aecc-85279492068a",
   "metadata": {},
   "outputs": [],
   "source": [
    "from sklearn.linear_model import LinearRegression\n",
    "\n",
    "model=LinearRegression()\n",
    "model.fit(X_train,y_train)\n",
    "model.score(X_test,y_test)"
   ]
  }
 ],
 "metadata": {
  "kernelspec": {
   "display_name": "Python 3 (ipykernel)",
   "language": "python",
   "name": "python3"
  },
  "language_info": {
   "codemirror_mode": {
    "name": "ipython",
    "version": 3
   },
   "file_extension": ".py",
   "mimetype": "text/x-python",
   "name": "python",
   "nbconvert_exporter": "python",
   "pygments_lexer": "ipython3",
   "version": "3.12.0"
  }
 },
 "nbformat": 4,
 "nbformat_minor": 5
}
