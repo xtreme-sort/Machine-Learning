{
 "cells": [
  {
   "cell_type": "code",
   "execution_count": null,
   "metadata": {},
   "outputs": [],
   "source": [
    "import os\n",
    "from matplotlib import pyplot as plt\n",
    "import cv2\n",
    "\n",
    "os.chdir('..')\n",
    "path=os.path.join('MACHINE LEARNING','ML_NOTES','datasets','DATASET_YASHASWI')\n",
    "file_names=['METAL','MIXED','PAPER','PLASTIC','WOOD']\n",
    "\n",
    "for file in file_names:\n",
    "    file_path=os.path.join(path,file)\n",
    "    fig, axes= plt.subplots(1,4,figsize=(20,12))\n",
    "    x=0\n",
    "    for i in os.listdir(file_path):\n",
    "        img_array=cv2.imread(os.path.join(file_path,i))\n",
    "        img_array=cv2.cvtColor(img_array,cv2.COLOR_BGR2RGB)\n",
    "        axes[x].imshow(img_array)\n",
    "        x+=1\n",
    "        if x==4:\n",
    "            break\n",
    "    plt.suptitle(file,fontsize=26)\n",
    "    \n",
    "     \n",
    "\n",
    "        \n"
   ]
  }
 ],
 "metadata": {
  "kernelspec": {
   "display_name": "Python 3",
   "language": "python",
   "name": "python3"
  },
  "language_info": {
   "codemirror_mode": {
    "name": "ipython",
    "version": 3
   },
   "file_extension": ".py",
   "mimetype": "text/x-python",
   "name": "python",
   "nbconvert_exporter": "python",
   "pygments_lexer": "ipython3",
   "version": "3.12.0"
  }
 },
 "nbformat": 4,
 "nbformat_minor": 2
}
