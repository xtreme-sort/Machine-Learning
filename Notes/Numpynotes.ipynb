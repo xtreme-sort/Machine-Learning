{
 "cells": [
  {
   "cell_type": "code",
   "execution_count": null,
   "metadata": {},
   "outputs": [],
   "source": [
    "import pandas as pd\n",
    "import numpy as np\n",
    "\n",
    "arr=np.array(range(10))\n",
    "arr=np.arange(10) # This is short form of above a(array)range\n",
    "\n",
    "arr.shape\n",
    "# Every array has a shape, a tuple indicating the size of each dimension\n",
    "arr.dtype\n",
    "#dtype, an object describing the data type of the array\n",
    "\n",
    "#Indexing starts from 0..."
   ]
  },
  {
   "cell_type": "code",
   "execution_count": null,
   "metadata": {},
   "outputs": [],
   "source": [
    "# OPERATIONS (Can be done normally as matrices)\n",
    "'''\n",
    "    arr(+ or - or * or /)arr  (Corresponding elements are equated)\n",
    "    arr(+ or - or * or /)10 (broadcasting)\n",
    "'''"
   ]
  },
  {
   "cell_type": "code",
   "execution_count": null,
   "metadata": {},
   "outputs": [],
   "source": [
    "# Array Creation FUNCTIONS\n",
    "np.zeros(10)\n",
    "np.ones(10)\n",
    "np.empty(10) # Garbage values are filled\n",
    "np.identity(5) # Creates a NxN identity matrix"
   ]
  },
  {
   "cell_type": "code",
   "execution_count": null,
   "metadata": {},
   "outputs": [],
   "source": [
    "import numpy as np\n",
    "random_integers_between_50_and_100 = np.random.randint(low=50, high=101, size=(6))\n",
    "print(random_integers_between_50_and_100)"
   ]
  },
  {
   "cell_type": "code",
   "execution_count": null,
   "metadata": {},
   "outputs": [],
   "source": [
    "import numpy as np\n",
    "random_floats_between_0_and_1 = np.random.random([6])\n",
    "print(random_floats_between_0_and_1) "
   ]
  }
 ],
 "metadata": {
  "kernelspec": {
   "display_name": "Python 3",
   "language": "python",
   "name": "python3"
  },
  "language_info": {
   "codemirror_mode": {
    "name": "ipython",
    "version": 3
   },
   "file_extension": ".py",
   "mimetype": "text/x-python",
   "name": "python",
   "nbconvert_exporter": "python",
   "pygments_lexer": "ipython3",
   "version": "3.12.0"
  }
 },
 "nbformat": 4,
 "nbformat_minor": 2
}
