{
 "cells": [
  {
   "cell_type": "code",
   "execution_count": null,
   "metadata": {},
   "outputs": [],
   "source": [
    "print(\"Content that you wanna print on screen\")\n",
    "print('Content that you wanna print on screen')\n",
    "print('''Content that you wanna print on screen''') #For multi-line string"
   ]
  },
  {
   "cell_type": "code",
   "execution_count": null,
   "metadata": {},
   "outputs": [],
   "source": [
    "# in print() when we use concatenantion, we should make sure that both are of same data type\n",
    "print('My Name is' +' ' +'Yashaswi')"
   ]
  },
  {
   "cell_type": "code",
   "execution_count": null,
   "metadata": {},
   "outputs": [],
   "source": [
    "# variables can be declared directly without mentioning the data types\n",
    "name='Yashaswi'\n",
    "print(\"My name is\",name) #There is no need of giving space explicitly "
   ]
  },
  {
   "cell_type": "code",
   "execution_count": null,
   "metadata": {},
   "outputs": [],
   "source": [
    "# input() funtion takes input from the user and returns a string which is aasigned to the variable \n",
    "str_input_from_user=input()\n",
    "int_input_from_user=int(input())\n",
    "# data_type_input_from_user=data_type(input([prompt]))"
   ]
  },
  {
   "cell_type": "code",
   "execution_count": null,
   "metadata": {},
   "outputs": [],
   "source": [
    "#Taking list as input\n",
    "string=input()\n",
    "list=string.split()\n",
    "print(list)\n",
    "\n",
    "# OR\n",
    "\n",
    "arr=list(map(int,input().split()))\n",
    "print(arr)"
   ]
  },
  {
   "cell_type": "code",
   "execution_count": null,
   "metadata": {},
   "outputs": [],
   "source": [
    "# STRINGS\n",
    "\n",
    "string='Yashaswi python'\n",
    "print(string.isalnum())\n",
    "print(string.isalpha())\n",
    "print(string.isupper())\n",
    "print(string.islower())\n",
    "print(string.endswith('n'))\n",
    "print(string.startswith('Y'))\n",
    "string=string.upper()\n",
    "string=string.lower()\n",
    "count=string.count('a')\n",
    "string=string.replace('a','A')\n",
    "string=string.split() # This will become a list \n",
    "#indexing starts from 0"
   ]
  },
  {
   "cell_type": "code",
   "execution_count": null,
   "metadata": {},
   "outputs": [],
   "source": [
    "# OPERATORS\n",
    "''' \n",
    "    +(addition)\n",
    "    -(subtraction)\n",
    "    ==(equality)\n",
    "    =(assignment)\n",
    "    *(multiplication)\n",
    "    **(power)\n",
    "    /(division)\n",
    "    //(integral division)\n",
    "    %(remainder)\n",
    "    (+,-,*,/,//,....)= (cannot be used if LHS and RHS are not of same type)\n",
    "'''"
   ]
  },
  {
   "cell_type": "markdown",
   "metadata": {},
   "source": [
    "\n",
    "| Operator     | Name           | Description                                            |\n",
    "|--------------|----------------|--------------------------------------------------------|\n",
    "| ``a + b``    | Addition       | Sum of ``a`` and ``b``                                 |\n",
    "| ``a - b``    | Subtraction    | Difference of ``a`` and ``b``                          |\n",
    "| ``a * b``    | Multiplication | Product of ``a`` and ``b``                             |\n",
    "| ``a / b``    | True division  | Quotient of ``a`` and ``b``                            |\n",
    "| ``a // b``   | Floor division | Quotient of ``a`` and ``b``, removing fractional parts |\n",
    "| ``a % b``    | Modulus        | Integer remainder after division of ``a`` by ``b``     |\n",
    "| ``a ** b``   | Exponentiation | ``a`` raised to the power of ``b``                     |\n",
    "| ``-a``       | Negation       | The negative of ``a``                                  |\n",
    "\n"
   ]
  },
  {
   "cell_type": "code",
   "execution_count": null,
   "metadata": {},
   "outputs": [],
   "source": [
    "# LOGICAL OPERATORS\n",
    "'''\n",
    "    and\n",
    "    or\n",
    "'''"
   ]
  },
  {
   "cell_type": "code",
   "execution_count": null,
   "metadata": {},
   "outputs": [],
   "source": [
    "# FOR LOOP\n",
    "for i in range(10):\n",
    "    print(i)\n",
    "\n",
    "print('\\n')\n",
    "\n",
    "for i in range(10):\n",
    "    print(i,end=' ')\n",
    "\n",
    "print('\\n')\n",
    "\n",
    "for i in range(0,10,2):\n",
    "    print(i,end=\" \")\n",
    "\n",
    "\n",
    "# In range(start,stop,step) funtion Default value of start=0 and step=1\n",
    "# start is included and stop is excluded"
   ]
  },
  {
   "cell_type": "code",
   "execution_count": null,
   "metadata": {},
   "outputs": [],
   "source": [
    "#If we use break statement the execution of loop stops\n",
    "#If we use continue statement the case which is below continue will not get executed and the flow goes to starting of the loop "
   ]
  },
  {
   "cell_type": "code",
   "execution_count": null,
   "metadata": {},
   "outputs": [],
   "source": [
    "# WHILE LOOP\n",
    "x=0\n",
    "y=6\n",
    "while x<6 and y>0:\n",
    "    print(x,y)\n",
    "    x+=1\n",
    "    y-=1\n",
    "else:\n",
    "    print(\"DONE\")\n",
    "\n",
    "print('\\n')\n",
    "x=0\n",
    "y=6\n",
    "while x<6 or y>0:\n",
    "    print(x,y)\n",
    "    x+=1\n",
    "    y-=1\n",
    "else:\n",
    "    print(\"DONE\")\n",
    "\n",
    "print('\\n')\n",
    "x=0\n",
    "y=6\n",
    "while x<6 and y>0 and y>x:\n",
    "    print(x,y)\n",
    "    x+=1\n",
    "    y-=1\n",
    "else:\n",
    "    print(\"DONE\")\n",
    "\n",
    "\n",
    "# else statement gets executed once after the exceution of loop is over \n"
   ]
  },
  {
   "cell_type": "code",
   "execution_count": null,
   "metadata": {},
   "outputs": [],
   "source": [
    "# IF-ELIF-ELSE STATEMENTS\n",
    "\n",
    "for i in range(10):\n",
    "    if i%3==0:\n",
    "        print('The Number is of the foem 3n')\n",
    "    elif i%3==1:\n",
    "        print('The Number is of the form 3n+1')\n",
    "    else:\n",
    "        print('The Number is of the form 3n+2')"
   ]
  },
  {
   "cell_type": "code",
   "execution_count": null,
   "metadata": {},
   "outputs": [],
   "source": [
    "# LISTS\n",
    "\n",
    "my_list=[1,1.5,'Yashaswi',[2,2.5,'Notes']]\n",
    "# Indexing is like 0 1 2 3 4..... in python for STRINGS,LISTS\n",
    "\n",
    "print(my_list[2][2])\n",
    "print(my_list[3][2])\n",
    "\n",
    "# Slicing\n",
    "print(my_list[0:4:2]) # 2 is the step size(default=1)\n",
    "print(my_list[:]) #prints complete list\n",
    "\n",
    "# Similar to range function but instead of commas there are colons here\n",
    "\n",
    "'''                  LIST FUNCTIONS                  '''\n",
    "list=[1,2,3,4]\n",
    "\n",
    "list.append(5) # list=[1,2,3,4,5]\n",
    "list.remove(3) # list=[1,2,4,5]\n",
    "list.remove(list[1]) # list=[1,4,5]\n",
    "list.insert(1,2) # list=[1,2,4,5]\n",
    "list.insert(2,3) # list=[1,2,3,4,5]\n",
    "print(list.index(5)) # 4\n",
    "print(list.count(2)) # 1\n",
    "del(list[0:2]) # list=[3,4,5]\n",
    "list.reverse() # list=[5,4,3]\n",
    "list.extend([10,11,12]) #list=[5,4,3,10,11,12]\n",
    "list.pop(3) #list=[5,4,3,11,12]\n",
    "#list.sort()  \n",
    "'''used when all the elements are of same type\n",
    "   sorted in ascending order                 \n",
    "'''\n",
    "\n",
    "# insert(index,object)\n",
    "# pop(index) default=-1(last element) \n",
    "\n",
    "\n"
   ]
  },
  {
   "cell_type": "code",
   "execution_count": null,
   "metadata": {},
   "outputs": [],
   "source": [
    "# DICTIONARIES\n",
    "\n",
    "dict={'Names':[\"Messi\",\"Ronaldo\",\"Neymar\"],\n",
    "      'Country':[\"Brazil\",\"Portugal\",\"Maradona\"]}\n",
    "\n",
    "\n",
    "print(dict[\"Names\"])\n",
    "print(dict[\"Country\"])"
   ]
  },
  {
   "cell_type": "code",
   "execution_count": null,
   "metadata": {},
   "outputs": [],
   "source": [
    "# LIBRARIES \n",
    "\n",
    "import math\n",
    "'''\n",
    "    math.ceil()\n",
    "    math.floor()\n",
    "    maths.gamma()\n",
    "    maths.perm(n,k) nPk\n",
    "'''\n",
    "\n",
    "import pandas as pd\n",
    "import numpy as np\n",
    "import itertools\n",
    "'''\n",
    "    itertools.permutations()\n",
    "    itertools.combinations()\n",
    "'''\n",
    "\n",
    "#If you want a spedcific funtion from some library\n",
    "from itertools import permutations"
   ]
  },
  {
   "cell_type": "code",
   "execution_count": null,
   "metadata": {},
   "outputs": [],
   "source": [
    "list=[4,3,2,1,0]\n",
    "for i,j in enumerate(list):\n",
    "    print(str(i) + ' and ' + str(j))"
   ]
  },
  {
   "cell_type": "code",
   "execution_count": null,
   "metadata": {},
   "outputs": [],
   "source": [
    "class Solution():\n",
    "    def __init__(self) -> None:\n",
    "        pass\n",
    "    def add(self,n,m):\n",
    "        return n+m\n",
    "    def subtract(self,n,m):\n",
    "        return n-m\n",
    "        \n",
    "calc=Solution()\n",
    "calc.subtract(1,2)\n"
   ]
  }
 ],
 "metadata": {
  "kernelspec": {
   "display_name": "Python 3 (ipykernel)",
   "language": "python",
   "name": "python3"
  },
  "language_info": {
   "codemirror_mode": {
    "name": "ipython",
    "version": 3
   },
   "file_extension": ".py",
   "mimetype": "text/x-python",
   "name": "python",
   "nbconvert_exporter": "python",
   "pygments_lexer": "ipython3",
   "version": "3.12.0"
  }
 },
 "nbformat": 4,
 "nbformat_minor": 4
}
