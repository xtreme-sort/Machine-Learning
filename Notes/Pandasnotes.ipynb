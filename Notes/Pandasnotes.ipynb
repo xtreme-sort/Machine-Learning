{
 "cells": [
  {
   "cell_type": "code",
   "execution_count": null,
   "metadata": {},
   "outputs": [],
   "source": [
    "import pandas as pd\n",
    "\n",
    "dict={'Names':[\"Messi\",\"Ronaldo\",\"Neymar\"],\n",
    "      'Country':[\"Brazil\",\"Portugal\",\"Maradona\"]}\n",
    "df=pd.DataFrame(dict,index=[1,2,3])\n",
    "print(df)\n",
    "df.rename({'Names':'NAMES','Country':'COUNTRY'},axis=1,inplace=True)\n",
    "print(df)\n",
    "print(len(df.index))\n",
    "print(len(df.columns))\n"
   ]
  },
  {
   "cell_type": "code",
   "execution_count": null,
   "metadata": {},
   "outputs": [],
   "source": [
    "import pandas as pd\n",
    "\n",
    "list=[[1,2,3,4],[5,6,7,8]]\n",
    "df=pd.DataFrame(list,index=[1,2],columns=['A','B','C','D'])\n",
    "print(df)\n",
    "df=df.transpose()\n",
    "df"
   ]
  },
  {
   "cell_type": "code",
   "execution_count": null,
   "metadata": {},
   "outputs": [],
   "source": [
    "import pandas as pd\n",
    "\n",
    "df=pd.read_csv(\"data.csv\")\n",
    "df.columns=['fLength','fWidth','fSize','fConc','fConc1','fAsym','fM3Long','fM3Trans','fAlpha','fDist','Class']\n",
    "df=df.transpose()\n",
    "df"
   ]
  },
  {
   "cell_type": "code",
   "execution_count": null,
   "metadata": {},
   "outputs": [],
   "source": [
    "#reading a file --> pd.read_[FILE_TYPE](\"[FILE_NAME].[FILE_TYPE_EXTENSION]\")\n",
    "df=pd.read_csv(\"data.csv\")\n",
    "df=pd.read_excel(\"data.xlsx\")\n",
    "df\n",
    "'''\n",
    "filepath_or_buffer (required): The file path or object that contains the CSV data.\n",
    "\n",
    "sep or delimiter: The delimiter to use. The default is ',' (comma).\n",
    "\n",
    "header: Row(s) to use as the column names. Default is 'infer,' which means pandas will try to infer column names.\n",
    "\n",
    "names: List of column names to use. Overrides header.\n",
    "\n",
    "index_col: Column(s) to set as index (can be a single column name or a list of column names).\n",
    "\n",
    "usecols: A list of columns to parse and load into the DataFrame.\n",
    "\n",
    "encoding: Specifies the encoding to be used for the file. Default is 'utf-8'.\n",
    "\n",
    "skiprows: Number of rows to skip at the beginning of the file.\n",
    "\n",
    "skipfooter: Number of lines at the end of the file to skip.\n",
    "\n",
    "nrows: Number of rows to read from the beginning of the file.\n",
    "\n",
    "thousands: Separator for thousands, e.g., ',' or '.'.\n",
    "\n",
    "decimal: Character to recognize as a decimal point, e.g., ',' or '.'.\n",
    "\n",
    "na_values: Additional strings to recognize as NA/NaN.\n",
    "\n",
    "comment: Character(s) to split comments off the end of lines.\n",
    "\n",
    "quotechar: Character to denote the start and end of a quoted item.\n",
    "\n",
    "quoting: Quoting convention. Accepts values like 0, 1, 2, or 3.\n",
    "\n",
    "escapechar: Character to escape delimiter.\n",
    "\n",
    "parse_dates: Attempt to parse dates in the specified columns.\n",
    "\n",
    "date_parser: Function to use for date parsing.\n",
    "\n",
    "dayfirst: When parsing dates, treat as international format (dd/mm).\n",
    "\n",
    "infer_datetime_format: If True, infer the datetime format based on the first few rows.\n",
    "\n",
    "keep_default_na: Whether to keep the default NaN values.\n",
    "\n",
    "thousands: Separator for thousands.\n",
    "\n",
    "decimal: Character to recognize as the decimal point.\n",
    "\n",
    "nrows: Number of rows to read.\n",
    "\n",
    "skip_blank_lines: If True, skip over blank lines rather than interpreting as NaN values'''"
   ]
  },
  {
   "cell_type": "code",
   "execution_count": null,
   "metadata": {},
   "outputs": [],
   "source": [
    "# Different methods of printing \n",
    "\n",
    "print(\"Rows #0, #1, and #2:\")\n",
    "print(df.head(3), '\\n')\n",
    "\n",
    "print(\"Row #2:\")\n",
    "print(df.iloc[[0]], '\\n')\n",
    "\n",
    "print(\"Rows #1, #2, and #3:\")\n",
    "print(df[1:4], '\\n')\n",
    "\n",
    "print(\"Column 'temperature':\")\n",
    "print(df['temperature'])"
   ]
  },
  {
   "cell_type": "code",
   "execution_count": null,
   "metadata": {},
   "outputs": [],
   "source": [
    "# FUNCTIONS ON ROWS AND COLUMNS\n",
    "\n",
    "df.columns=['fLength','fWidth','fSize','fConc','fConc1','fAsym','fM3Long','fM3Trans','fAlpha','fDist','Class']\n",
    "df.index=range(1,19021)\n",
    "df.drop('Class',axis=1,inplace=True)\n",
    "# We can drop a row(axis=0)(default) or a column(axis=1)\n",
    "# inplace=True(deafult=False) is used to make changes in the same df else a copy is created\n",
    "# Alternative df=df.drop('Class',axis=1)\n",
    "\n",
    "df.insert(10,'Class',range(1,19021))\n",
    "# Used to insert a column at required location\n",
    "\n",
    "df.assign(bonus=df['fLength']*2)\n",
    "df['bonus']=df['fLength']*2\n",
    "# Used to insert a column at end\n",
    "\n",
    "df.fillna(\"required_string\")\n",
    "# Used to fill NaN with a string\n",
    "\n",
    "# We can access th elements of a column\n",
    "for i in range(1,19021):\n",
    "    print(df['Class'][i])\n",
    "\n",
    "df=df.transpose()\n",
    "#Swaps rows and columns"
   ]
  },
  {
   "cell_type": "code",
   "execution_count": null,
   "metadata": {},
   "outputs": [],
   "source": [
    "# Filtering with booelan arrays\n",
    "\n",
    "import pandas as pd\n",
    "\n",
    "df=pd.DataFrame([[1,1],[2,2],[3,3],[4,4],[5,5]],index=range(1,6),columns=['A','B'])\n",
    "df['A']=df['A'][df['A']%2==0]\n",
    "df"
   ]
  },
  {
   "cell_type": "code",
   "execution_count": null,
   "metadata": {},
   "outputs": [],
   "source": []
  }
 ],
 "metadata": {
  "kernelspec": {
   "display_name": "Python 3",
   "language": "python",
   "name": "python3"
  },
  "language_info": {
   "codemirror_mode": {
    "name": "ipython",
    "version": 3
   },
   "file_extension": ".py",
   "mimetype": "text/x-python",
   "name": "python",
   "nbconvert_exporter": "python",
   "pygments_lexer": "ipython3",
   "version": "3.12.3"
  }
 },
 "nbformat": 4,
 "nbformat_minor": 2
}
